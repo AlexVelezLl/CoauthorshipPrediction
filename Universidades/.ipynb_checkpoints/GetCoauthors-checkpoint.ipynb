{
 "cells": [
  {
   "cell_type": "code",
   "execution_count": 6,
   "metadata": {},
   "outputs": [],
   "source": [
    "import pandas as pd\n",
    "\n",
    "data = pd.read_excel(\"Publicaciones sin duplicadosUCHILE.xlsx\")"
   ]
  },
  {
   "cell_type": "code",
   "execution_count": 7,
   "metadata": {},
   "outputs": [],
   "source": [
    "coauthors =[]\n",
    "\n",
    "for author in data['Authors']:\n",
    "    author = str(author)\n",
    "    if \";\" in author:\n",
    "        coauthors.append(author.split(\";\"))\n",
    "    else:\n",
    "        coauthors.append(author.split(\".,\"))\n"
   ]
  },
  {
   "cell_type": "code",
   "execution_count": 8,
   "metadata": {},
   "outputs": [],
   "source": [
    "def formating(author):\n",
    "    author = author.strip()\n",
    "    if not (author.endswith(\".\")):\n",
    "        author = author+\".\"\n",
    "    return author\n",
    "\n",
    "dic = {}\n",
    "authors = {}\n",
    "for i,publ in enumerate(coauthors):\n",
    "    \n",
    "    for offset,author1 in enumerate(publ):\n",
    "        offset+=1\n",
    "        author1 = formating(author1)\n",
    "        authors.add(author1)\n",
    "        for author2 in publ[offset:]:\n",
    "            author2 = formating(author2)\n",
    "            \n",
    "            key = author1+\";\"+author2\n",
    "            altkey = author2+\";\"+author1\n",
    "            year = data['Year'][i]\n",
    "            if year>=2015 and year<=2019:\n",
    "                if key in dic.keys():\n",
    "                    dic[key]['n']+=1\n",
    "\n",
    "                    if year < dic[key]['firstColab']:\n",
    "                        dic[key]['firstColab'] = year\n",
    "                elif altkey in dic.keys():\n",
    "                    dic[altkey]['n']+=1\n",
    "                    if year < dic[altkey]['firstColab']:\n",
    "                        dic[altkey]['firstColab'] = year\n",
    "                else:\n",
    "                    dic[key] = {\"n\":1,\"firstColab\":year}\n"
   ]
  },
  {
   "cell_type": "code",
   "execution_count": 9,
   "metadata": {},
   "outputs": [],
   "source": [
    "with open(\"coauthors2015_2019UCHILE-edges.csv\",\"w\",encoding=\"utf-8\") as f:\n",
    "    f.write(\"Source;Target;Weight;Year\\n\")\n",
    "    for key, value in dic.items():\n",
    "        ath = key.split(\";\")\n",
    "        f.write(ath[0]+\";\"+ath[1]+\";\"+str(value['n'])+\";\"+str(int(value['firstColab']))+\"\\n\")\n",
    "\n",
    "with open(\"coauthors2015_2019UCHILE-nodes.csv\",\"w\",encoding=\"utf-8\") as g:\n",
    "    g.write(\"ID;Label\\n\")\n",
    "    for auth in authors:\n",
    "        g.write(auth+\";\"+auth+\"\\n\")       \n",
    "        "
   ]
  },
  {
   "cell_type": "code",
   "execution_count": null,
   "metadata": {},
   "outputs": [],
   "source": []
  },
  {
   "cell_type": "code",
   "execution_count": null,
   "metadata": {},
   "outputs": [],
   "source": []
  }
 ],
 "metadata": {
  "kernelspec": {
   "display_name": "Python 3",
   "language": "python",
   "name": "python3"
  },
  "language_info": {
   "codemirror_mode": {
    "name": "ipython",
    "version": 3
   },
   "file_extension": ".py",
   "mimetype": "text/x-python",
   "name": "python",
   "nbconvert_exporter": "python",
   "pygments_lexer": "ipython3",
   "version": "3.8.2"
  }
 },
 "nbformat": 4,
 "nbformat_minor": 4
}
