{
 "cells": [
  {
   "cell_type": "code",
   "execution_count": 21,
   "metadata": {},
   "outputs": [],
   "source": [
    "import pandas as pd\n",
    "\n",
    "data = pd.read_excel(\"publicaciones/Publicaciones con Abstract ESPOL.xlsx\")"
   ]
  },
  {
   "cell_type": "code",
   "execution_count": 22,
   "metadata": {},
   "outputs": [
    {
     "data": {
      "text/plain": [
       "0      Additive manufacturing, Biomechanics, Mechanic...\n",
       "1      3D additive printing, Biomechanics, Computing ...\n",
       "2                                                    NaN\n",
       "3      Damping control, Hydraulic pumping system, Osc...\n",
       "4         Alarm systems, GSM, Messaging systems, NIOS II\n",
       "                             ...                        \n",
       "617              C. elegans, Image analysis, Recognition\n",
       "618                           Filovirus, IFN, VP24, VP35\n",
       "619                                                  NaN\n",
       "620                                                  NaN\n",
       "621    Heterologous promoters, Luciferase expression,...\n",
       "Name: Keywords, Length: 622, dtype: object"
      ]
     },
     "execution_count": 22,
     "metadata": {},
     "output_type": "execute_result"
    }
   ],
   "source": [
    "coauthors =[]\n",
    "\n",
    "for author in data['Authors']:\n",
    "    author = str(author)\n",
    "    if \";\" in author:\n",
    "        coauthors.append(author.split(\";\"))\n",
    "    else:\n",
    "        coauthors.append(author.split(\".,\"))\n",
    "data['Keywords']"
   ]
  },
  {
   "cell_type": "code",
   "execution_count": 23,
   "metadata": {},
   "outputs": [],
   "source": [
    "def formating(author):\n",
    "    author = author.strip()\n",
    "    if not (author.endswith(\".\")):\n",
    "        author = author+\".\"\n",
    "    return author\n",
    "\n",
    "dic = {}\n",
    "authors = {}\n",
    "for i,publ in enumerate(coauthors):\n",
    "    \n",
    "    keywords = str(data['Keywords'][i]).split(\",\")\n",
    "    \n",
    "    for offset,author1 in enumerate(publ):\n",
    "        author1 = formating(author1)\n",
    "        if author1 not in authors.keys():\n",
    "            authors[author1] = set()\n",
    "        for keyword in keywords:\n",
    "            keyword = keyword.strip()\n",
    "            if(keyword!='nan'):\n",
    "                authors[author1].add(keyword)\n",
    "        \n",
    "        offset+=1\n",
    "        author1 = formating(author1)\n",
    "        for author2 in publ[offset:]:\n",
    "            author2 = formating(author2)\n",
    "            \n",
    "            key = author1+\";\"+author2\n",
    "            altkey = author2+\";\"+author1\n",
    "            year = data['Year'][i]\n",
    "            if year>=2015 and year<=2019:\n",
    "                if key in dic.keys():\n",
    "                    dic[key]['n']+=1\n",
    "\n",
    "                    if year < dic[key]['firstColab']:\n",
    "                        dic[key]['firstColab'] = year\n",
    "                elif altkey in dic.keys():\n",
    "                    dic[altkey]['n']+=1\n",
    "                    if year < dic[altkey]['firstColab']:\n",
    "                        dic[altkey]['firstColab'] = year\n",
    "                else:\n",
    "                    dic[key] = {\"n\":1,\"firstColab\":year}\n"
   ]
  },
  {
   "cell_type": "code",
   "execution_count": 24,
   "metadata": {},
   "outputs": [],
   "source": [
    "with open(\"data/grafo_completo/coauthors-edges-ESPOL.csv\",\"w\",encoding=\"utf-8\") as f:\n",
    "    f.write(\"Source;Target;Weight;Year\\n\")\n",
    "    for key, value in dic.items():\n",
    "        ath = key.split(\";\")\n",
    "        f.write(ath[0]+\";\"+ath[1]+\";\"+str(value['n'])+\";\"+str(int(value['firstColab']))+\"\\n\")\n",
    "\n",
    "with open(\"data/grafo_completo/coauthors-nodes-ESPOL.csv\",\"w\",encoding=\"utf-8\") as g:\n",
    "    g.write(\"ID;Label;Keywords\\n\")\n",
    "    for auth,keyword in authors.items():\n",
    "        g.write(auth+\";\"+auth+\";\"+\",\".join(keyword)+\"\\n\")       \n",
    "        "
   ]
  },
  {
   "cell_type": "code",
   "execution_count": 25,
   "metadata": {},
   "outputs": [],
   "source": [
    "import networkx as nx\n",
    "\n",
    "def connected_component_subgraphs(G):\n",
    "    for c in nx.connected_components(G):\n",
    "        yield G.subgraph(c)\n",
    "\n",
    "coau_df = pd.read_csv(\"data/grafo_completo/coauthors-edges-ESPOL.csv\",delimiter=\";\")\n",
    "\n",
    "G = nx.from_pandas_edgelist(coau_df,\"Source\",\"Target\",['Weight','Year'],create_using=nx.Graph())\n",
    "G = sorted(connected_component_subgraphs(G), key=len, reverse=True)[0]\n",
    "nodosCG = list(G.nodes)\n",
    "\n",
    "with open(\"data/componente_gigante/coauthors-edgesCG-ESPOL.csv\",\"w\",encoding=\"utf-8\") as f:\n",
    "    f.write(\"Source;Target;Weight;Year\\n\")\n",
    "    for key, value in dic.items():\n",
    "        ath = key.split(\";\")\n",
    "        if ath[0] in nodosCG:\n",
    "            f.write(ath[0]+\";\"+ath[1]+\";\"+str(value['n'])+\";\"+str(int(value['firstColab']))+\"\\n\")\n",
    "\n",
    "with open(\"data/componente_gigante/coauthors-nodesCG-ESPOL.csv\",\"w\",encoding=\"utf-8\") as g:\n",
    "    g.write(\"ID;Label;Keywords\\n\")\n",
    "    for auth,keyword in authors.items():\n",
    "        if auth in nodosCG:\n",
    "            g.write(auth+\";\"+auth+\";\"+\",\".join(keyword)+\"\\n\")       \n",
    "        "
   ]
  },
  {
   "cell_type": "code",
   "execution_count": 26,
   "metadata": {},
   "outputs": [
    {
     "data": {
      "text/plain": [
       "1175"
      ]
     },
     "execution_count": 26,
     "metadata": {},
     "output_type": "execute_result"
    }
   ],
   "source": [
    "len(G.edges)"
   ]
  },
  {
   "cell_type": "code",
   "execution_count": null,
   "metadata": {},
   "outputs": [],
   "source": []
  }
 ],
 "metadata": {
  "kernelspec": {
   "display_name": "Python 3",
   "language": "python",
   "name": "python3"
  },
  "language_info": {
   "codemirror_mode": {
    "name": "ipython",
    "version": 3
   },
   "file_extension": ".py",
   "mimetype": "text/x-python",
   "name": "python",
   "nbconvert_exporter": "python",
   "pygments_lexer": "ipython3",
   "version": "3.8.2"
  }
 },
 "nbformat": 4,
 "nbformat_minor": 4
}
