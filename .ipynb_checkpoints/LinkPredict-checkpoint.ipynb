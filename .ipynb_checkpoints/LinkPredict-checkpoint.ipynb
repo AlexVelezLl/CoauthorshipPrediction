{
 "cells": [
  {
   "cell_type": "code",
   "execution_count": 3,
   "metadata": {
    "colab": {},
    "colab_type": "code",
    "id": "4svK7xD75iFn"
   },
   "outputs": [],
   "source": [
    "import networkx as nx\n",
    "import numpy as np\n",
    "import pandas as pd\n",
    "from sklearn.model_selection import train_test_split\n",
    "from sklearn.linear_model import LogisticRegression\n",
    "from sklearn.metrics import roc_auc_score\n",
    "\n",
    "coau_df = pd.read_csv(\"data/coauthorsCC-edges.csv\",delimiter=\";\")\n",
    "\n",
    "G = nx.from_pandas_edgelist(coau_df,\"Source\",\"Target\",['Weight'],create_using=nx.Graph())\n",
    "nodos = list(G.nodes)"
   ]
  },
  {
   "cell_type": "code",
   "execution_count": 217,
   "metadata": {
    "colab": {
     "base_uri": "https://localhost:8080/",
     "height": 51
    },
    "colab_type": "code",
    "id": "XFEF4a7B59vB",
    "outputId": "6b42fffc-b605-4a0f-e1bf-02ae442f91bb"
   },
   "outputs": [
    {
     "name": "stdout",
     "output_type": "stream",
     "text": [
      "(6348, 4)\n",
      "(2117, 4)\n"
     ]
    }
   ],
   "source": [
    "#Obteniendo dataframe de pares de nodos que no tienen coneccion\n",
    "\n",
    "adj_G = nx.to_numpy_matrix(G, nodelist = nodos)\n",
    "all_unconnected_pairs = []\n",
    "\n",
    "offset = 0\n",
    "for i in range(adj_G.shape[0]):\n",
    "  for j in range(offset,adj_G.shape[1]):\n",
    "    if i != j:\n",
    "        #Para evitar tener demasiados ejemplos de pares de nodos que no tienen coneccion\n",
    "        #Solo se tomaran solo los ejemplos de los pares de nodos cuya distancia mas corta\n",
    "        #sea 2, y que no tengan coneccion\n",
    "        if nx.shortest_path_length(G, str(nodos[i]), str(nodos[j])) ==2:\n",
    "          if adj_G[i,j] == 0:\n",
    "            all_unconnected_pairs.append((nodos[i],nodos[j]))\n",
    "\n",
    "  offset = offset + 1\n",
    "\n",
    "node_1_unlinked = [i[0] for i in all_unconnected_pairs]\n",
    "node_2_unlinked = [i[1] for i in all_unconnected_pairs]\n",
    "\n",
    "#Creando dataframe para almacenar a los pares de nodos no conectados que se recogieron\n",
    "data = pd.DataFrame({'Source':node_1_unlinked,'Target':node_2_unlinked})\n",
    "data['Weight'] = 0\n",
    "data['link'] = 0\n",
    "\n",
    "indices = range(len(data['Source']))\n",
    "\n",
    "#Separando el dataframe en datos para train y para test\n",
    "#(se busca un numero no muy grande de datos de pares que no tienen coneccion en los datos para entrenar, para\n",
    "#evitar que los datos de entrenamiento esten desbalanceados)\n",
    "\n",
    "removeIn, noRemoveIn = train_test_split(indices,test_size=0.25,random_state=32)\n",
    "\n",
    "test= data.copy()\n",
    "test = test.drop(index=noRemoveIn)\n",
    "\n",
    "data = data.drop(index=removeIn)\n",
    "\n",
    "data.shape #Cantidad de ejemplos negativos "
   ]
  },
  {
   "cell_type": "code",
   "execution_count": 219,
   "metadata": {
    "colab": {
     "base_uri": "https://localhost:8080/",
     "height": 34
    },
    "colab_type": "code",
    "id": "2QjyvRRv-S_z",
    "outputId": "55ef1059-d3ca-4795-f77c-184f6fbda45e"
   },
   "outputs": [
    {
     "data": {
      "text/plain": [
       "(4413, 4)"
      ]
     },
     "execution_count": 219,
     "metadata": {
      "tags": []
     },
     "output_type": "execute_result"
    }
   ],
   "source": [
    "#Trabajando con los pares de nodos que si estan conectados\n",
    "\n",
    "#Obteniendo lista de los links que se pueden borrar (que no eliminan nodos, o dividen al grafo en mas de una componente)\n",
    "\n",
    "initial_node_count = len(G.nodes)\n",
    "\n",
    "coau_df_temp = coau_df.copy()\n",
    "\n",
    "omissible_links_index = []\n",
    "\n",
    "for i in coau_df.index.values:\n",
    "    # Eliminar una arista y construir un nuevo grafo sin esa unica arista\n",
    "    G_temp = nx.from_pandas_edgelist(coau_df_temp.drop(index=i), \"Source\", \"Target\",[\"Weight\"], create_using=nx.Graph())\n",
    "\n",
    "    # Verificando que este par no parte el grafo, y que el numero de nodos siga siendo el mismo\n",
    "\n",
    "    if (nx.number_connected_components(G_temp) == 1) and (len(G_temp.nodes) == initial_node_count):\n",
    "        omissible_links_index.append(i)\n",
    "        coau_df_temp = coau_df_temp.drop(i)\n",
    "\n",
    "\n",
    "#creando dataframe de edges que se pueden remover\n",
    "\n",
    "coau_df_temp2 = coau_df.copy()\n",
    "coau_df_temp2[\"link\"]=1\n",
    "\n",
    "#Separando dataframe en datos para train y test\n",
    "linkNoDele,linkDele = train_test_split(omissible_links_index,test_size=0.25,random_state=35)\n",
    "\n",
    "testlinks = coau_df_temp2.loc[linkDele]\n",
    "coau_df_temp = coau_df_temp2.drop(index=linkDele)\n",
    "\n",
    "data = data.append(coau_df_temp[['Source', 'Target', 'link','Weight']], ignore_index=True)\n",
    "data[\"Weight\"] = data[\"Weight\"].astype('int64')\n",
    "\n",
    "test = test.append(testlinks[['Source', 'Target', 'link','Weight']], ignore_index=True)\n",
    "data.shape"
   ]
  },
  {
   "cell_type": "code",
   "execution_count": 0,
   "metadata": {
    "colab": {},
    "colab_type": "code",
    "id": "RfUY09Hw-hyY"
   },
   "outputs": [],
   "source": [
    "#Creando nuevo grafo con links eliminados aleatoriamente\n",
    "G_data = nx.from_pandas_edgelist(coau_df_temp, \"Source\", \"Target\",[\"Weight\"], create_using=nx.Graph())"
   ]
  },
  {
   "cell_type": "code",
   "execution_count": 0,
   "metadata": {
    "colab": {},
    "colab_type": "code",
    "id": "ZlSTGQd4Ajnx"
   },
   "outputs": [],
   "source": [
    "#Definiendo varias metricas para link prediction\n",
    "\n",
    "def commonNeighbors(G,source,target):\n",
    "  adj = dict(G.adj[source])\n",
    "  adj2 = dict(G.adj[target])\n",
    "  commonNeighbors = set(adj.keys()) & set(adj2.keys())\n",
    "  return commonNeighbors\n",
    "\n",
    "def jaccardCoeff(G,source,target):\n",
    "  adj = dict(G.adj[source])\n",
    "  adj2 = dict(G.adj[target])\n",
    "  unionNeighbors = set(adj.keys()) | set(adj2.keys())\n",
    "  commonNeighbors = set(adj.keys()) & set(adj2.keys())\n",
    "  return len(commonNeighbors)/len(unionNeighbors)\n",
    "\n",
    "def adamicAdar(G,source,target):\n",
    "  cn = commonNeighbors(G,source,target)\n",
    "  coeff = 0\n",
    "  for neighbor in cn:\n",
    "    coeff += 1/np.log(len(dict(G.adj[neighbor]).keys()))\n",
    "  return coeff\n"
   ]
  },
  {
   "cell_type": "code",
   "execution_count": 198,
   "metadata": {
    "colab": {
     "base_uri": "https://localhost:8080/",
     "height": 34
    },
    "colab_type": "code",
    "id": "L1MbMqM1CX12",
    "outputId": "3edfcfae-6c0b-42ae-b40b-71ca6263bb73"
   },
   "outputs": [
    {
     "data": {
      "text/plain": [
       "2.2172545575960854"
      ]
     },
     "execution_count": 198,
     "metadata": {
      "tags": []
     },
     "output_type": "execute_result"
    }
   ],
   "source": [
    "AdamicAdar(G_data,\"Vaca, C.\",\"Ochoa, X.\")"
   ]
  },
  {
   "cell_type": "code",
   "execution_count": 1,
   "metadata": {
    "colab": {
     "base_uri": "https://localhost:8080/",
     "height": 34
    },
    "colab_type": "code",
    "id": "w9IKZxaRYnwO",
    "outputId": "a7f4e812-7788-48d3-8612-7d7eacd475e2"
   },
   "outputs": [
    {
     "ename": "NameError",
     "evalue": "name 'data' is not defined",
     "output_type": "error",
     "traceback": [
      "\u001b[1;31m---------------------------------------------------------------------------\u001b[0m",
      "\u001b[1;31mNameError\u001b[0m                                 Traceback (most recent call last)",
      "\u001b[1;32m<ipython-input-1-5914efe735e1>\u001b[0m in \u001b[0;36m<module>\u001b[1;34m\u001b[0m\n\u001b[0;32m      3\u001b[0m \u001b[0mXtrain\u001b[0m \u001b[1;33m=\u001b[0m\u001b[1;33m[\u001b[0m\u001b[1;33m]\u001b[0m\u001b[1;33m\u001b[0m\u001b[1;33m\u001b[0m\u001b[0m\n\u001b[0;32m      4\u001b[0m \u001b[0mYtrain\u001b[0m \u001b[1;33m=\u001b[0m\u001b[1;33m[\u001b[0m\u001b[1;33m]\u001b[0m\u001b[1;33m\u001b[0m\u001b[1;33m\u001b[0m\u001b[0m\n\u001b[1;32m----> 5\u001b[1;33m \u001b[1;32mfor\u001b[0m \u001b[0mi\u001b[0m \u001b[1;32min\u001b[0m \u001b[0mdata\u001b[0m\u001b[1;33m.\u001b[0m\u001b[0mvalues\u001b[0m\u001b[1;33m:\u001b[0m\u001b[1;33m\u001b[0m\u001b[1;33m\u001b[0m\u001b[0m\n\u001b[0m\u001b[0;32m      6\u001b[0m   \u001b[0mXtrain\u001b[0m\u001b[1;33m.\u001b[0m\u001b[0mappend\u001b[0m\u001b[1;33m(\u001b[0m\u001b[1;33m[\u001b[0m\u001b[0madamicAdar\u001b[0m\u001b[1;33m(\u001b[0m\u001b[0mG_data\u001b[0m\u001b[1;33m,\u001b[0m\u001b[0mi\u001b[0m\u001b[1;33m[\u001b[0m\u001b[1;36m0\u001b[0m\u001b[1;33m]\u001b[0m\u001b[1;33m,\u001b[0m\u001b[0mi\u001b[0m\u001b[1;33m[\u001b[0m\u001b[1;36m1\u001b[0m\u001b[1;33m]\u001b[0m\u001b[1;33m)\u001b[0m\u001b[1;33m]\u001b[0m\u001b[1;33m)\u001b[0m\u001b[1;33m\u001b[0m\u001b[1;33m\u001b[0m\u001b[0m\n\u001b[0;32m      7\u001b[0m   \u001b[0mYtrain\u001b[0m\u001b[1;33m.\u001b[0m\u001b[0mappend\u001b[0m\u001b[1;33m(\u001b[0m\u001b[1;33m[\u001b[0m\u001b[0mi\u001b[0m\u001b[1;33m[\u001b[0m\u001b[1;36m3\u001b[0m\u001b[1;33m]\u001b[0m\u001b[1;33m]\u001b[0m\u001b[1;33m)\u001b[0m\u001b[1;33m\u001b[0m\u001b[1;33m\u001b[0m\u001b[0m\n",
      "\u001b[1;31mNameError\u001b[0m: name 'data' is not defined"
     ]
    }
   ],
   "source": [
    "#Obteniendo las features, y armando los arrays para usarlo en la regresion logistica\n",
    "\n",
    "Xtrain =[]\n",
    "Ytrain =[]\n",
    "for i in data.values:\n",
    "  Xtrain.append([adamicAdar(G_data,i[0],i[1])])\n",
    "  Ytrain.append([i[3]])\n",
    "\n",
    "Xtest = []\n",
    "Ytest = []\n",
    "for i in test.values:\n",
    "  Xtest.append([adamicAdar(G_data,i[0],i[1])])\n",
    "  Ytest.append([i[3]])\n",
    "\n"
   ]
  },
  {
   "cell_type": "code",
   "execution_count": 223,
   "metadata": {
    "colab": {
     "base_uri": "https://localhost:8080/",
     "height": 88
    },
    "colab_type": "code",
    "id": "01Xj5JJkh5hB",
    "outputId": "47df9b30-d245-4f1f-d0c0-bbe2e332ed86"
   },
   "outputs": [
    {
     "name": "stdout",
     "output_type": "stream",
     "text": [
      "Regresion logistica 0.8867899900981188\n"
     ]
    },
    {
     "name": "stderr",
     "output_type": "stream",
     "text": [
      "/usr/local/lib/python3.6/dist-packages/sklearn/utils/validation.py:760: DataConversionWarning: A column-vector y was passed when a 1d array was expected. Please change the shape of y to (n_samples, ), for example using ravel().\n",
      "  y = column_or_1d(y, warn=True)\n"
     ]
    }
   ],
   "source": [
    "lr = LogisticRegression(class_weight=\"balanced\")\n",
    "\n",
    "lr.fit(Xtrain, Ytrain)\n",
    "\n",
    "predictions = lr.predict(Xtest)\n",
    "print(\"Regresion logistica\",roc_auc_score(Ytest, predictions))"
   ]
  },
  {
   "cell_type": "code",
   "execution_count": 227,
   "metadata": {
    "colab": {
     "base_uri": "https://localhost:8080/",
     "height": 68
    },
    "colab_type": "code",
    "id": "2oMUtEyviIMo",
    "outputId": "3e093d0e-cf57-4e13-ff16-b1a1cb6f6e9c"
   },
   "outputs": [
    {
     "name": "stdout",
     "output_type": "stream",
     "text": [
      "Aciertos totales:  0.9210992907801419\n",
      "unos acertados:  0.8476190476190476\n",
      "ceros acertados 0.9259609325771897\n"
     ]
    }
   ],
   "source": [
    "# Accuracy de varios tipos de aciertos \n",
    "\n",
    "aciertosTotales = 0\n",
    "unosAcertados = 0\n",
    "cerosAcertados = 0\n",
    "suma =0\n",
    "for tst, y in zip(Xtest,Ytest):\n",
    "    \n",
    "    suma+=y[0]\n",
    "    \n",
    "    predic = 0\n",
    "    if lr.predict([tst])[0] > 0.5:\n",
    "        predic = 1\n",
    "              \n",
    "    if y[0] == predic:\n",
    "        aciertosTotales+=1\n",
    "        \n",
    "    if y[0] == 1 and predic == 1:\n",
    "        unosAcertados+=1\n",
    "      \n",
    "    if y[0] == 0 and predic ==0:\n",
    "        cerosAcertados+=1\n",
    "\n",
    "acc = aciertosTotales/len(Ytest[:,0])\n",
    "print(\"Aciertos totales: \",acc)\n",
    "\n",
    "acc2 = unosAcertados/suma\n",
    "print(\"unos acertados: \",acc2)\n",
    "\n",
    "acc3 = cerosAcertados/(len(Ytest[:,0])-suma)\n",
    "print(\"ceros acertados\",acc3)\n"
   ]
  },
  {
   "cell_type": "code",
   "execution_count": 0,
   "metadata": {
    "colab": {},
    "colab_type": "code",
    "id": "Z0lBKXW88-vm"
   },
   "outputs": [],
   "source": []
  }
 ],
 "metadata": {
  "colab": {
   "collapsed_sections": [],
   "name": "LinkPrediction.ipynb",
   "provenance": []
  },
  "kernelspec": {
   "display_name": "Python 3",
   "language": "python",
   "name": "python3"
  },
  "language_info": {
   "codemirror_mode": {
    "name": "ipython",
    "version": 3
   },
   "file_extension": ".py",
   "mimetype": "text/x-python",
   "name": "python",
   "nbconvert_exporter": "python",
   "pygments_lexer": "ipython3",
   "version": "3.8.2"
  }
 },
 "nbformat": 4,
 "nbformat_minor": 1
}
