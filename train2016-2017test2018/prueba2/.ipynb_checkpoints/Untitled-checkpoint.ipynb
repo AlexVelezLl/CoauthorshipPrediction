{
 "cells": [
  {
   "cell_type": "code",
   "execution_count": 1,
   "metadata": {},
   "outputs": [],
   "source": [
    "import networkx as nx\n",
    "import numpy as np\n",
    "import pandas as pd\n",
    "from sklearn.model_selection import train_test_split\n",
    "from sklearn.linear_model import LogisticRegression\n",
    "from sklearn import svm\n",
    "from sklearn.metrics import roc_auc_score\n",
    "\n",
    "from tqdm import tqdm\n",
    "\n",
    "coau_df = pd.read_csv(\"data/coauthorsCG-edges.csv\",delimiter=\";\")\n",
    "#El dataset solo contiene edges del  2016 al  2019\n",
    "\n",
    "G = nx.from_pandas_edgelist(coau_df,\"Source\",\"Target\",['Weight','year'],create_using=nx.Graph())\n",
    "nodos = list(G.nodes)\n"
   ]
  },
  {
   "cell_type": "code",
   "execution_count": null,
   "metadata": {},
   "outputs": [],
   "source": [
    "#Obteniendo dataframe de pares de nodos que no tienen coneccion\n",
    "\n",
    "adj_G = nx.to_numpy_matrix(G, nodelist = nodos)\n",
    "all_unconnected_pairs = []\n",
    "\n",
    "offset = 0\n",
    "for i in range(adj_G.shape[0]):\n",
    "  for j in range(offset,adj_G.shape[1]):\n",
    "    if i != j and adj_G[i,j] == 0:\n",
    "        all_unconnected_pairs.append((nodos[i],nodos[j]))\n",
    "\n",
    "  offset = offset + 1\n",
    "\n",
    "node_1_unlinked = [i[0] for i in all_unconnected_pairs]\n",
    "node_2_unlinked = [i[1] for i in all_unconnected_pairs]\n",
    "\n",
    "#Creando dataframe para almacenar a los pares de nodos no conectados que se recogieron\n",
    "data = pd.DataFrame({'Source':node_1_unlinked,'Target':node_2_unlinked})\n",
    "data['Weight'] = 0\n",
    "data['link'] = 0\n",
    "\n",
    "indices = range(len(data['Source']))\n",
    "\n",
    "#Separando el dataframe en datos para train y para test\n",
    "\n",
    "noRemoveIn,removeIn = train_test_split(indices,test_size=0.30,random_state=32)\n",
    "\n",
    "test= data.copy()\n",
    "test = test.drop(index=noRemoveIn)\n",
    "\n",
    "data = data.drop(index=removeIn)\n",
    "\n",
    "data.shape #Cantidad de ejemplos negativos "
   ]
  }
 ],
 "metadata": {
  "kernelspec": {
   "display_name": "Python 3",
   "language": "python",
   "name": "python3"
  },
  "language_info": {
   "codemirror_mode": {
    "name": "ipython",
    "version": 3
   },
   "file_extension": ".py",
   "mimetype": "text/x-python",
   "name": "python",
   "nbconvert_exporter": "python",
   "pygments_lexer": "ipython3",
   "version": "3.8.2"
  }
 },
 "nbformat": 4,
 "nbformat_minor": 4
}
