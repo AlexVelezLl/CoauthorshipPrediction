{
 "cells": [
  {
   "cell_type": "code",
   "execution_count": 1,
   "metadata": {},
   "outputs": [],
   "source": [
    "import pandas as pd\n",
    "\n",
    "data = pd.read_excel(\"Publicaciones sin duplicados.xlsx\")"
   ]
  },
  {
   "cell_type": "code",
   "execution_count": 2,
   "metadata": {},
   "outputs": [],
   "source": [
    "coauthors =[]\n",
    "\n",
    "for author in data['Authors']:\n",
    "    \n",
    "    if \";\" in author:\n",
    "        coauthors.append(author.split(\";\"))\n",
    "    else:\n",
    "        coauthors.append(author.split(\".,\"))\n"
   ]
  },
  {
   "cell_type": "code",
   "execution_count": 3,
   "metadata": {},
   "outputs": [],
   "source": [
    "def formating(author):\n",
    "    author = author.strip()\n",
    "    if not (author.endswith(\".\")):\n",
    "        author = author+\".\"\n",
    "    return author\n",
    "\n",
    "dic = {}\n",
    "authors = set()\n",
    "for i,publ in enumerate(coauthors):\n",
    "    for offset,author1 in enumerate(publ):\n",
    "        offset+=1\n",
    "        author1 = formating(author1)\n",
    "        authors.add(author1)\n",
    "        for author2 in publ[offset:]:\n",
    "            author2 = formating(author2)\n",
    "            \n",
    "            key = author1+\";\"+author2\n",
    "            altkey = author2+\";\"+author1\n",
    "            year = data['Year'][i]\n",
    "            if year>2015 and year<=2019:\n",
    "                if key in dic.keys():\n",
    "                    dic[key]['n']+=1\n",
    "\n",
    "                    if year < dic[key]['firstColab']:\n",
    "                        dic[key]['firstColab'] = year\n",
    "                elif altkey in dic.keys():\n",
    "                    dic[altkey]['n']+=1\n",
    "                    if year < dic[altkey]['firstColab']:\n",
    "                        dic[altkey]['firstColab'] = year\n",
    "                else:\n",
    "                    dic[key] = {\"n\":1,\"firstColab\":year}\n"
   ]
  },
  {
   "cell_type": "code",
   "execution_count": 4,
   "metadata": {},
   "outputs": [],
   "source": [
    "with open(\"coauthors-edges.csv\",\"w\",encoding=\"utf-8\") as f:\n",
    "    f.write(\"Source;Target;Weight;Year\\n\")\n",
    "    for key, value in dic.items():\n",
    "        ath = key.split(\";\")\n",
    "        f.write(ath[0]+\";\"+ath[1]+\";\"+str(value['n'])+\";\"+str(value['firstColab'])+\"\\n\")\n",
    "\n",
    "with open(\"coauthors-nodes.csv\",\"w\",encoding=\"utf-8\") as g:\n",
    "    g.write(\"ID;Label\\n\")\n",
    "    for auth in authors:\n",
    "        g.write(auth+\";\"+auth+\"\\n\")       \n",
    "        "
   ]
  },
  {
   "cell_type": "code",
   "execution_count": null,
   "metadata": {},
   "outputs": [],
   "source": []
  }
 ],
 "metadata": {
  "kernelspec": {
   "display_name": "Python 3",
   "language": "python",
   "name": "python3"
  },
  "language_info": {
   "codemirror_mode": {
    "name": "ipython",
    "version": 3
   },
   "file_extension": ".py",
   "mimetype": "text/x-python",
   "name": "python",
   "nbconvert_exporter": "python",
   "pygments_lexer": "ipython3",
   "version": "3.8.2"
  }
 },
 "nbformat": 4,
 "nbformat_minor": 4
}
